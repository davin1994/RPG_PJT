{
 "cells": [
  {
   "cell_type": "code",
   "execution_count": 27,
   "id": "f934abd0",
   "metadata": {},
   "outputs": [],
   "source": [
    "from selenium import webdriver\n",
    "from selenium.webdriver.common.keys import Keys\n",
    "import time\n",
    "import selenium\n",
    "from selenium import webdriver\n",
    "import pandas as pd\n",
    "import numpy as np\n",
    "from bs4 import BeautifulSoup\n",
    "from selenium.webdriver.common.by import By # 셀레니움 4.0부터 포함된 함수(필수)\n",
    "from urllib.request import urlopen\n",
    "import requests\n"
   ]
  },
  {
   "cell_type": "code",
   "execution_count": 28,
   "id": "5fec64c6",
   "metadata": {},
   "outputs": [
    {
     "name": "stderr",
     "output_type": "stream",
     "text": [
      "C:\\Users\\jihye\\AppData\\Local\\Temp\\ipykernel_8452\\3506397282.py:1: DeprecationWarning: executable_path has been deprecated, please pass in a Service object\n",
      "  driver = webdriver.Chrome('./driver/chromedriver.exe')\n"
     ]
    }
   ],
   "source": [
    "driver = webdriver.Chrome('./driver/chromedriver.exe')"
   ]
  },
  {
   "cell_type": "code",
   "execution_count": 29,
   "id": "7be9696b",
   "metadata": {},
   "outputs": [],
   "source": [
    "# 웹사이트\n",
    "driver.get(\"https://www.naver.com\")\n",
    "driver.implicitly_wait(10) # 10초 대기"
   ]
  },
  {
   "cell_type": "code",
   "execution_count": 30,
   "id": "47d5156b",
   "metadata": {},
   "outputs": [],
   "source": [
    "#query"
   ]
  },
  {
   "cell_type": "code",
   "execution_count": 31,
   "id": "c1a6767e",
   "metadata": {},
   "outputs": [],
   "source": [
    "# 검색창 선택 후 클릭\n",
    "search = driver.find_element(By.CSS_SELECTOR,'#query')\n",
    "search.click()\n",
    "\n",
    "#sform > fieldset > div > input\n",
    "#query"
   ]
  },
  {
   "cell_type": "code",
   "execution_count": 32,
   "id": "45c80d47",
   "metadata": {},
   "outputs": [],
   "source": [
    "# 검색어 입력\n",
    "search.send_keys('콘솔게임시장 현황')"
   ]
  },
  {
   "cell_type": "code",
   "execution_count": 33,
   "id": "5a139c24",
   "metadata": {},
   "outputs": [],
   "source": [
    "# 엔터키 전송\n",
    "search.send_keys(Keys.ENTER)"
   ]
  },
  {
   "cell_type": "code",
   "execution_count": 34,
   "id": "62ba3790",
   "metadata": {},
   "outputs": [],
   "source": [
    "# 뉴스메뉴 클릭\n",
    "driver.find_element(By.CSS_SELECTOR,'#lnb > div.lnb_group > div > ul > li:nth-child(8) > a').click()\n",
    "time.sleep(2)"
   ]
  },
  {
   "cell_type": "code",
   "execution_count": 35,
   "id": "dc291bcf",
   "metadata": {},
   "outputs": [
    {
     "data": {
      "text/plain": [
       "0"
      ]
     },
     "execution_count": 35,
     "metadata": {},
     "output_type": "execute_result"
    }
   ],
   "source": [
    "# 스크롤 실행 전 높이\n",
    "before_h = driver.execute_script('return window.scrollY')\n",
    "before_h"
   ]
  },
  {
   "cell_type": "code",
   "execution_count": 36,
   "id": "c84dc703",
   "metadata": {},
   "outputs": [
    {
     "name": "stdout",
     "output_type": "stream",
     "text": [
      "638\n",
      "638\n"
     ]
    }
   ],
   "source": [
    "# 무한 스크롤\n",
    "# body태그 객체를 찾고 키보드의 end키를 전송\n",
    "while True :\n",
    "    # 현재 화면의 맨 아래로 스크롤을 내리기\n",
    "    driver.find_element(By.CSS_SELECTOR,'body').send_keys(Keys.END)\n",
    "    # 스크롤 후 페이지 로딩시간 대기\n",
    "    time.sleep(1)\n",
    "    \n",
    "    # 스크롤 후 현재 위치\n",
    "    after_h = driver.execute_script('return window.scrollY')\n",
    "    print(after_h)\n",
    "    if after_h == before_h :\n",
    "        break\n",
    "    before_h = after_h"
   ]
  },
  {
   "cell_type": "code",
   "execution_count": null,
   "id": "07d09a89",
   "metadata": {},
   "outputs": [],
   "source": [
    "#main_pack > div.api_sc_page_wrap > div > div\n",
    "#main_pack > div.api_sc_page_wrap > div > div > a:nth-child(2)\n",
    "\n",
    "# <div class=\"news_area\"> <div class=\"news_info\"> <div class=\"api_save_group _keep_wrap\"> <a href=\"#\" role=\"button\" class=\"btn_save _keep_trigger\" data-url=\"http://dream.kotra.or.kr/kotranews/cms/news/actionKotraBoardDetail.do?SITE_NO=3&amp;MENU_ID=180&amp;CONTENTS_NO=1&amp;bbsGbn=243&amp;bbsSn=243&amp;pNttSn=201864\" onclick=\"tCR('a=nws*f.kep&amp;r=7&amp;i=2834_000000000000000000010410&amp;u=javascript'); return false;\" aria-pressed=\"false\"><i class=\"spnew ico_save\">문서 저장하기</i></a> <div class=\"api_ly_save _keep_save_layer\"> <a href=\"#\" role=\"button\" class=\"spnew_af item item_save _keep_save\" data-cr-on=\"a=nws*f.kepon&amp;r=7&amp;i=2834_000000000000000000010410&amp;u=javascript\" data-cr-off=\"a=nws*f.kepoff&amp;r=7&amp;i=2834_000000000000000000010410&amp;u=javascript\">Keep에 저장</a> <a href=\"https://keep.naver.com/\" class=\"spnew_af item item_quick\" target=\"_blank\" onclick=\"return goOtherCR(this,'a=nws*f.kephome&amp;r=7&amp;i=2834_000000000000000000010410&amp;u='+urlencode(this.href));\">Keep 바로가기</a> </div></div><div class=\"info_group\"> <a href=\"https://dream.kotra.or.kr/kotranews/index.do\" class=\"info press\" target=\"_blank\" onclick=\"return goOtherCR(this, 'a=nws*f.prof&amp;r=7&amp;i=2834_000000000000000000010410&amp;g=5834.0000010410&amp;u='+urlencode(this.href));\"><span class=\"thumb_box\"><img src=\"data:image/gif;base64,R0lGODlhAQABAIAAAAAAAP///yH5BAEAAAAALAAAAAABAAEAAAIBRAA7\" alt=\"\" width=\"20\" height=\"20\" class=\"thumb bg_default_press\" onerror=\"this.src='data:image/gif;base64,R0lGODlhAQABAIAAAAAAAP///yH5BAEAAAAALAAAAAABAAEAAAIBRAA7';this.className='thumb bg_default_press'\"></span>KOTRA해외시장뉴스</a><span class=\"info\">2023.04.17.</span> </div></div><a href=\"http://dream.kotra.or.kr/kotranews/cms/news/actionKotraBoardDetail.do?SITE_NO=3&amp;MENU_ID=180&amp;CONTENTS_NO=1&amp;bbsGbn=243&amp;bbsSn=243&amp;pNttSn=201864\" class=\"news_tit\" target=\"_blank\" onclick=\"return goOtherCR(this, 'a=nws*f.tit&amp;r=7&amp;i=2834_000000000000000000010410&amp;g=5834.0000010410&amp;u='+urlencode(this.href));\" title=\"꾸준히 성장하는 튀르키예 모바일 게임 시장\">꾸준히 성장하는 튀르키예 모바일 <mark>게임 시장</mark></a> <div class=\"news_dsc\"> <div class=\"dsc_wrap\"> <a href=\"http://dream.kotra.or.kr/kotranews/cms/news/actionKotraBoardDetail.do?SITE_NO=3&amp;MENU_ID=180&amp;CONTENTS_NO=1&amp;bbsGbn=243&amp;bbsSn=243&amp;pNttSn=201864\" class=\"api_txt_lines dsc_txt_wrap\" target=\"_blank\" onclick=\"return goOtherCR(this, 'a=nws*f.body&amp;r=7&amp;i=2834_000000000000000000010410&amp;g=5834.0000010410&amp;u='+urlencode(this.href));\">비디오(<mark>콘솔</mark>) 13 14 [자료: Mobidictum] 튀르키예 모바일 <mark>게임 시장</mark> 트렌드 튀르키예 역시 글로벌 <mark>게임</mark>... 자국 <mark>게임</mark> 산업 개발 환경을 조성하고 있다. &lt;튀르키예 <mark>게임</mark> 스타트업 투자 유치 <mark>현황</mark>&gt; (단위: US$ 백만) 기업...</a> </div></div></div>\n",
    "#sp_nws7 > div > div > div.news_info\n",
    "#sp_nws7 > div > div > a\n",
    "#sp_nws7 > div > div > div.news_dsc\n",
    "#sp_nws7 > div > div\n",
    "#sp_nws7 > div"
   ]
  },
  {
   "cell_type": "code",
   "execution_count": 52,
   "id": "db00e734",
   "metadata": {},
   "outputs": [],
   "source": [
    "# 뉴스 헤드라인 추출 클래스명  : .basicList_info_area__TWvzp\n",
    "topic_list = driver.find_elements(By.CSS_SELECTOR,\"div.news_dsc\")\n",
    "\n",
    "# <a href=\"https://www.asiatime.co.kr/article/20230417500321\" class=\"news_tit\" target=\"_blank\" onclick=\"return goOtherCR(this, 'a=nws*f.tit&amp;r=8&amp;i=8817ca9c_000000000000000000232158&amp;g=5492.0000232158&amp;u='+urlencode(this.href));\" title=\"모바일 게임 근소한 우위 견지 속에 PC·콘솔 약진… 올해 판도는\">모바일 <mark>게임</mark> 근소한 우위 견지 속에 PC·<mark>콘솔</mark> 약진… 올해 판도는</a>"
   ]
  },
  {
   "cell_type": "code",
   "execution_count": 53,
   "id": "cbe29fab",
   "metadata": {},
   "outputs": [
    {
     "name": "stdout",
     "output_type": "stream",
     "text": [
      "[<selenium.webdriver.remote.webelement.WebElement (session=\"1970dcec2f706f6be41ba85ac8165c65\", element=\"4a559156-9457-4821-b328-f28562afb355\")>, <selenium.webdriver.remote.webelement.WebElement (session=\"1970dcec2f706f6be41ba85ac8165c65\", element=\"53856081-6da2-477e-8c09-144cb48ef8c5\")>, <selenium.webdriver.remote.webelement.WebElement (session=\"1970dcec2f706f6be41ba85ac8165c65\", element=\"0b416872-20ae-4d23-82af-817e02c46795\")>, <selenium.webdriver.remote.webelement.WebElement (session=\"1970dcec2f706f6be41ba85ac8165c65\", element=\"9b074efd-9857-459d-90a8-b9524e0b847e\")>, <selenium.webdriver.remote.webelement.WebElement (session=\"1970dcec2f706f6be41ba85ac8165c65\", element=\"72bc169a-fbdd-4573-982e-43bf220384ea\")>, <selenium.webdriver.remote.webelement.WebElement (session=\"1970dcec2f706f6be41ba85ac8165c65\", element=\"4cf25770-bf4f-4911-a88d-c7e86b69b965\")>, <selenium.webdriver.remote.webelement.WebElement (session=\"1970dcec2f706f6be41ba85ac8165c65\", element=\"9f5813be-b59b-4ea2-9063-380ee14a1915\")>, <selenium.webdriver.remote.webelement.WebElement (session=\"1970dcec2f706f6be41ba85ac8165c65\", element=\"bf4368a7-aff3-4b0b-b77d-771b8640daec\")>, <selenium.webdriver.remote.webelement.WebElement (session=\"1970dcec2f706f6be41ba85ac8165c65\", element=\"e37702bf-2d41-44c4-aaa3-d462e514b03c\")>, <selenium.webdriver.remote.webelement.WebElement (session=\"1970dcec2f706f6be41ba85ac8165c65\", element=\"a12f1724-934c-4710-be17-c02b8d3abae4\")>]\n"
     ]
    }
   ],
   "source": [
    "print(topic_list)"
   ]
  },
  {
   "cell_type": "code",
   "execution_count": 54,
   "id": "bfcadc98",
   "metadata": {},
   "outputs": [],
   "source": [
    "driver.close()"
   ]
  },
  {
   "cell_type": "code",
   "execution_count": 56,
   "id": "2dbb6fb1",
   "metadata": {},
   "outputs": [
    {
     "ename": "InvalidSessionIdException",
     "evalue": "Message: invalid session id\nStacktrace:\nBacktrace:\n\tGetHandleVerifier [0x0063DCE3+50899]\n\t(No symbol) [0x005CE111]\n\t(No symbol) [0x004D5450]\n\t(No symbol) [0x004F70B8]\n\t(No symbol) [0x0051B7F6]\n\t(No symbol) [0x00518722]\n\t(No symbol) [0x00517ADE]\n\t(No symbol) [0x004B5391]\n\t(No symbol) [0x004B598E]\n\t(No symbol) [0x004B5D6A]\n\tGetHandleVerifier [0x008A3EAE+2566302]\n\tGetHandleVerifier [0x008D92B1+2784417]\n\tGetHandleVerifier [0x008D327C+2759788]\n\tGetHandleVerifier [0x006D5740+672048]\n\t(No symbol) [0x005D8872]\n\t(No symbol) [0x004B4FEA]\n\t(No symbol) [0x004B49EF]\n\tGetHandleVerifier [0x008FBBCC+2926012]\n\tBaseThreadInitThunk [0x764F0099+25]\n\tRtlGetAppContainerNamedObjectPath [0x76EE7B6E+286]\n\tRtlGetAppContainerNamedObjectPath [0x76EE7B3E+238]\n",
     "output_type": "error",
     "traceback": [
      "\u001b[1;31m---------------------------------------------------------------------------\u001b[0m",
      "\u001b[1;31mInvalidSessionIdException\u001b[0m                 Traceback (most recent call last)",
      "Cell \u001b[1;32mIn[56], line 3\u001b[0m\n\u001b[0;32m      1\u001b[0m \u001b[38;5;66;03m#.basicList_title__VfX3c\u001b[39;00m\n\u001b[0;32m      2\u001b[0m \u001b[38;5;28;01mfor\u001b[39;00m item \u001b[38;5;129;01min\u001b[39;00m items :\n\u001b[1;32m----> 3\u001b[0m     name \u001b[38;5;241m=\u001b[39m \u001b[43mitem\u001b[49m\u001b[38;5;241;43m.\u001b[39;49m\u001b[43mfind_element\u001b[49m\u001b[43m(\u001b[49m\u001b[43mBy\u001b[49m\u001b[38;5;241;43m.\u001b[39;49m\u001b[43mCSS_SELECTOR\u001b[49m\u001b[43m,\u001b[49m\u001b[38;5;124;43m\"\u001b[39;49m\u001b[38;5;124;43m.div.news_dsc\u001b[39;49m\u001b[38;5;124;43m\"\u001b[39;49m\u001b[43m)\u001b[49m\u001b[38;5;241m.\u001b[39mtext\n\u001b[0;32m      4\u001b[0m \u001b[38;5;66;03m#     try : \u001b[39;00m\n\u001b[0;32m      5\u001b[0m \u001b[38;5;66;03m# #         price = item.find_element(By.CSS_SELECTOR,\".a\").text\u001b[39;00m\n\u001b[0;32m      6\u001b[0m \u001b[38;5;66;03m#     except :\u001b[39;00m\n\u001b[0;32m      7\u001b[0m \u001b[38;5;66;03m#         price = '판매중단'\u001b[39;00m\n\u001b[0;32m      8\u001b[0m     link \u001b[38;5;241m=\u001b[39m item\u001b[38;5;241m.\u001b[39mfind_element(By\u001b[38;5;241m.\u001b[39mCSS_SELECTOR,\u001b[38;5;124m\"\u001b[39m\u001b[38;5;124m.a\u001b[39m\u001b[38;5;124m\"\u001b[39m)\u001b[38;5;241m.\u001b[39mget_attribute(\u001b[38;5;124m'\u001b[39m\u001b[38;5;124mhref\u001b[39m\u001b[38;5;124m'\u001b[39m)\n",
      "File \u001b[1;32m~\\anaconda3\\lib\\site-packages\\selenium\\webdriver\\remote\\webelement.py:425\u001b[0m, in \u001b[0;36mWebElement.find_element\u001b[1;34m(self, by, value)\u001b[0m\n\u001b[0;32m    422\u001b[0m     by \u001b[38;5;241m=\u001b[39m By\u001b[38;5;241m.\u001b[39mCSS_SELECTOR\n\u001b[0;32m    423\u001b[0m     value \u001b[38;5;241m=\u001b[39m \u001b[38;5;124mf\u001b[39m\u001b[38;5;124m'\u001b[39m\u001b[38;5;124m[name=\u001b[39m\u001b[38;5;124m\"\u001b[39m\u001b[38;5;132;01m{\u001b[39;00mvalue\u001b[38;5;132;01m}\u001b[39;00m\u001b[38;5;124m\"\u001b[39m\u001b[38;5;124m]\u001b[39m\u001b[38;5;124m'\u001b[39m\n\u001b[1;32m--> 425\u001b[0m \u001b[38;5;28;01mreturn\u001b[39;00m \u001b[38;5;28;43mself\u001b[39;49m\u001b[38;5;241;43m.\u001b[39;49m\u001b[43m_execute\u001b[49m\u001b[43m(\u001b[49m\u001b[43mCommand\u001b[49m\u001b[38;5;241;43m.\u001b[39;49m\u001b[43mFIND_CHILD_ELEMENT\u001b[49m\u001b[43m,\u001b[49m\u001b[43m \u001b[49m\u001b[43m{\u001b[49m\u001b[38;5;124;43m\"\u001b[39;49m\u001b[38;5;124;43musing\u001b[39;49m\u001b[38;5;124;43m\"\u001b[39;49m\u001b[43m:\u001b[49m\u001b[43m \u001b[49m\u001b[43mby\u001b[49m\u001b[43m,\u001b[49m\u001b[43m \u001b[49m\u001b[38;5;124;43m\"\u001b[39;49m\u001b[38;5;124;43mvalue\u001b[39;49m\u001b[38;5;124;43m\"\u001b[39;49m\u001b[43m:\u001b[49m\u001b[43m \u001b[49m\u001b[43mvalue\u001b[49m\u001b[43m}\u001b[49m\u001b[43m)\u001b[49m[\u001b[38;5;124m\"\u001b[39m\u001b[38;5;124mvalue\u001b[39m\u001b[38;5;124m\"\u001b[39m]\n",
      "File \u001b[1;32m~\\anaconda3\\lib\\site-packages\\selenium\\webdriver\\remote\\webelement.py:403\u001b[0m, in \u001b[0;36mWebElement._execute\u001b[1;34m(self, command, params)\u001b[0m\n\u001b[0;32m    401\u001b[0m     params \u001b[38;5;241m=\u001b[39m {}\n\u001b[0;32m    402\u001b[0m params[\u001b[38;5;124m\"\u001b[39m\u001b[38;5;124mid\u001b[39m\u001b[38;5;124m\"\u001b[39m] \u001b[38;5;241m=\u001b[39m \u001b[38;5;28mself\u001b[39m\u001b[38;5;241m.\u001b[39m_id\n\u001b[1;32m--> 403\u001b[0m \u001b[38;5;28;01mreturn\u001b[39;00m \u001b[38;5;28;43mself\u001b[39;49m\u001b[38;5;241;43m.\u001b[39;49m\u001b[43m_parent\u001b[49m\u001b[38;5;241;43m.\u001b[39;49m\u001b[43mexecute\u001b[49m\u001b[43m(\u001b[49m\u001b[43mcommand\u001b[49m\u001b[43m,\u001b[49m\u001b[43m \u001b[49m\u001b[43mparams\u001b[49m\u001b[43m)\u001b[49m\n",
      "File \u001b[1;32m~\\anaconda3\\lib\\site-packages\\selenium\\webdriver\\remote\\webdriver.py:440\u001b[0m, in \u001b[0;36mWebDriver.execute\u001b[1;34m(self, driver_command, params)\u001b[0m\n\u001b[0;32m    438\u001b[0m response \u001b[38;5;241m=\u001b[39m \u001b[38;5;28mself\u001b[39m\u001b[38;5;241m.\u001b[39mcommand_executor\u001b[38;5;241m.\u001b[39mexecute(driver_command, params)\n\u001b[0;32m    439\u001b[0m \u001b[38;5;28;01mif\u001b[39;00m response:\n\u001b[1;32m--> 440\u001b[0m     \u001b[38;5;28;43mself\u001b[39;49m\u001b[38;5;241;43m.\u001b[39;49m\u001b[43merror_handler\u001b[49m\u001b[38;5;241;43m.\u001b[39;49m\u001b[43mcheck_response\u001b[49m\u001b[43m(\u001b[49m\u001b[43mresponse\u001b[49m\u001b[43m)\u001b[49m\n\u001b[0;32m    441\u001b[0m     response[\u001b[38;5;124m\"\u001b[39m\u001b[38;5;124mvalue\u001b[39m\u001b[38;5;124m\"\u001b[39m] \u001b[38;5;241m=\u001b[39m \u001b[38;5;28mself\u001b[39m\u001b[38;5;241m.\u001b[39m_unwrap_value(response\u001b[38;5;241m.\u001b[39mget(\u001b[38;5;124m\"\u001b[39m\u001b[38;5;124mvalue\u001b[39m\u001b[38;5;124m\"\u001b[39m, \u001b[38;5;28;01mNone\u001b[39;00m))\n\u001b[0;32m    442\u001b[0m     \u001b[38;5;28;01mreturn\u001b[39;00m response\n",
      "File \u001b[1;32m~\\anaconda3\\lib\\site-packages\\selenium\\webdriver\\remote\\errorhandler.py:245\u001b[0m, in \u001b[0;36mErrorHandler.check_response\u001b[1;34m(self, response)\u001b[0m\n\u001b[0;32m    243\u001b[0m         alert_text \u001b[38;5;241m=\u001b[39m value[\u001b[38;5;124m\"\u001b[39m\u001b[38;5;124malert\u001b[39m\u001b[38;5;124m\"\u001b[39m]\u001b[38;5;241m.\u001b[39mget(\u001b[38;5;124m\"\u001b[39m\u001b[38;5;124mtext\u001b[39m\u001b[38;5;124m\"\u001b[39m)\n\u001b[0;32m    244\u001b[0m     \u001b[38;5;28;01mraise\u001b[39;00m exception_class(message, screen, stacktrace, alert_text)  \u001b[38;5;66;03m# type: ignore[call-arg]  # mypy is not smart enough here\u001b[39;00m\n\u001b[1;32m--> 245\u001b[0m \u001b[38;5;28;01mraise\u001b[39;00m exception_class(message, screen, stacktrace)\n",
      "\u001b[1;31mInvalidSessionIdException\u001b[0m: Message: invalid session id\nStacktrace:\nBacktrace:\n\tGetHandleVerifier [0x0063DCE3+50899]\n\t(No symbol) [0x005CE111]\n\t(No symbol) [0x004D5450]\n\t(No symbol) [0x004F70B8]\n\t(No symbol) [0x0051B7F6]\n\t(No symbol) [0x00518722]\n\t(No symbol) [0x00517ADE]\n\t(No symbol) [0x004B5391]\n\t(No symbol) [0x004B598E]\n\t(No symbol) [0x004B5D6A]\n\tGetHandleVerifier [0x008A3EAE+2566302]\n\tGetHandleVerifier [0x008D92B1+2784417]\n\tGetHandleVerifier [0x008D327C+2759788]\n\tGetHandleVerifier [0x006D5740+672048]\n\t(No symbol) [0x005D8872]\n\t(No symbol) [0x004B4FEA]\n\t(No symbol) [0x004B49EF]\n\tGetHandleVerifier [0x008FBBCC+2926012]\n\tBaseThreadInitThunk [0x764F0099+25]\n\tRtlGetAppContainerNamedObjectPath [0x76EE7B6E+286]\n\tRtlGetAppContainerNamedObjectPath [0x76EE7B3E+238]\n"
     ]
    }
   ],
   "source": [
    "#.basicList_title__VfX3c\n",
    "for item in items :\n",
    "    name = item.find_element(By.CSS_SELECTOR,\".div.news_dsc\").text\n",
    "#     try : \n",
    "# #         price = item.find_element(By.CSS_SELECTOR,\".a\").text\n",
    "#     except :\n",
    "#         price = '판매중단'\n",
    "    link = item.find_element(By.CSS_SELECTOR,\".a\").get_attribute('href')\n",
    "    print(name,link)"
   ]
  },
  {
   "cell_type": "code",
   "execution_count": null,
   "id": "c501bd7c",
   "metadata": {},
   "outputs": [],
   "source": []
  },
  {
   "cell_type": "code",
   "execution_count": null,
   "id": "dfb2d642",
   "metadata": {},
   "outputs": [],
   "source": []
  }
 ],
 "metadata": {
  "kernelspec": {
   "display_name": "Python 3 (ipykernel)",
   "language": "python",
   "name": "python3"
  },
  "language_info": {
   "codemirror_mode": {
    "name": "ipython",
    "version": 3
   },
   "file_extension": ".py",
   "mimetype": "text/x-python",
   "name": "python",
   "nbconvert_exporter": "python",
   "pygments_lexer": "ipython3",
   "version": "3.10.9"
  }
 },
 "nbformat": 4,
 "nbformat_minor": 5
}
