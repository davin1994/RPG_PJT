{
 "cells": [
  {
   "cell_type": "code",
   "execution_count": 9,
   "id": "f934abd0",
   "metadata": {},
   "outputs": [],
   "source": [
    "from selenium import webdriver\n",
    "from selenium.webdriver.common.keys import Keys\n",
    "import time\n",
    "import selenium\n",
    "from selenium import webdriver\n",
    "import pandas as pd\n",
    "import numpy as np\n",
    "from bs4 import BeautifulSoup\n",
    "from selenium.webdriver.common.by import By # 셀레니움 4.0부터 포함된 함수(필수)"
   ]
  },
  {
   "cell_type": "code",
   "execution_count": 10,
   "id": "5fec64c6",
   "metadata": {},
   "outputs": [
    {
     "name": "stderr",
     "output_type": "stream",
     "text": [
      "C:\\Users\\jihye\\AppData\\Local\\Temp\\ipykernel_17272\\3506397282.py:1: DeprecationWarning: executable_path has been deprecated, please pass in a Service object\n",
      "  driver = webdriver.Chrome('./driver/chromedriver.exe')\n"
     ]
    }
   ],
   "source": [
    "driver = webdriver.Chrome('./driver/chromedriver.exe')"
   ]
  },
  {
   "cell_type": "code",
   "execution_count": 11,
   "id": "7be9696b",
   "metadata": {},
   "outputs": [],
   "source": [
    "# 웹사이트\n",
    "driver.get(\"https://www.naver.com\")\n",
    "driver.implicitly_wait(10) # 10초 대기"
   ]
  },
  {
   "cell_type": "code",
   "execution_count": null,
   "id": "47d5156b",
   "metadata": {},
   "outputs": [],
   "source": [
    "#query"
   ]
  },
  {
   "cell_type": "code",
   "execution_count": 12,
   "id": "c1a6767e",
   "metadata": {},
   "outputs": [],
   "source": [
    "# 검색창 선택 후 클릭\n",
    "search = driver.find_element(By.CSS_SELECTOR,'#query')\n",
    "search.click()\n",
    "\n",
    "#sform > fieldset > div > input\n",
    "#query"
   ]
  },
  {
   "cell_type": "code",
   "execution_count": 13,
   "id": "45c80d47",
   "metadata": {},
   "outputs": [],
   "source": [
    "# 검색어 입력\n",
    "search.send_keys('콘솔게임시장 현황')"
   ]
  },
  {
   "cell_type": "code",
   "execution_count": 14,
   "id": "5a139c24",
   "metadata": {},
   "outputs": [],
   "source": [
    "# 엔터키 전송\n",
    "search.send_keys(Keys.ENTER)"
   ]
  },
  {
   "cell_type": "code",
   "execution_count": 15,
   "id": "62ba3790",
   "metadata": {},
   "outputs": [],
   "source": [
    "# 뉴스메뉴 클릭\n",
    "driver.find_element(By.CSS_SELECTOR,'#lnb > div.lnb_group > div > ul > li:nth-child(8) > a').click()\n",
    "time.sleep(2)"
   ]
  },
  {
   "cell_type": "code",
   "execution_count": 16,
   "id": "dc291bcf",
   "metadata": {},
   "outputs": [
    {
     "data": {
      "text/plain": [
       "0"
      ]
     },
     "execution_count": 16,
     "metadata": {},
     "output_type": "execute_result"
    }
   ],
   "source": [
    "# 스크롤 실행 전 높이\n",
    "before_h = driver.execute_script('return window.scrollY')\n",
    "before_h"
   ]
  },
  {
   "cell_type": "code",
   "execution_count": 17,
   "id": "c84dc703",
   "metadata": {},
   "outputs": [
    {
     "name": "stdout",
     "output_type": "stream",
     "text": [
      "655\n",
      "655\n"
     ]
    }
   ],
   "source": [
    "# 무한 스크롤\n",
    "# body태그 객체를 찾고 키보드의 end키를 전송\n",
    "while True :\n",
    "    # 현재 화면의 맨 아래로 스크롤을 내리기\n",
    "    driver.find_element(By.CSS_SELECTOR,'body').send_keys(Keys.END)\n",
    "    # 스크롤 후 페이지 로딩시간 대기\n",
    "    time.sleep(1)\n",
    "    \n",
    "    # 스크롤 후 현재 위치\n",
    "    after_h = driver.execute_script('return window.scrollY')\n",
    "    print(after_h)\n",
    "    if after_h == before_h :\n",
    "        break\n",
    "    before_h = after_h"
   ]
  },
  {
   "cell_type": "code",
   "execution_count": 18,
   "id": "db00e734",
   "metadata": {},
   "outputs": [],
   "source": [
    "# 뉴스 헤드라인 추출 클래스명  : .basicList_info_area__TWvzp\n",
    "items = driver.find_elements(By.CSS_SELECTOR,\"#sp_nws8 > div > div > a\")\n",
    "\n",
    "# <a href=\"https://www.asiatime.co.kr/article/20230417500321\" class=\"news_tit\" target=\"_blank\" onclick=\"return goOtherCR(this, 'a=nws*f.tit&amp;r=8&amp;i=8817ca9c_000000000000000000232158&amp;g=5492.0000232158&amp;u='+urlencode(this.href));\" title=\"모바일 게임 근소한 우위 견지 속에 PC·콘솔 약진… 올해 판도는\">모바일 <mark>게임</mark> 근소한 우위 견지 속에 PC·<mark>콘솔</mark> 약진… 올해 판도는</a>"
   ]
  },
  {
   "cell_type": "code",
   "execution_count": 19,
   "id": "bfcadc98",
   "metadata": {},
   "outputs": [],
   "source": [
    "driver.close()"
   ]
  },
  {
   "cell_type": "code",
   "execution_count": null,
   "id": "2dbb6fb1",
   "metadata": {},
   "outputs": [],
   "source": [
    "#.basicList_title__VfX3c\n",
    "for item in items :\n",
    "    name = item.find_element(By.CSS_SELECTOR,\".basicList_title__VfX3c\").text\n",
    "    try : \n",
    "        price = item.find_element(By.CSS_SELECTOR,\".price_price__LEGN7\").text\n",
    "    except :\n",
    "        price = '판매중단'\n",
    "    link = item.find_element(By.CSS_SELECTOR,\".basicList_title__VfX3c > a\").get_attribute('href')\n",
    "    print(name,price,link)"
   ]
  },
  {
   "cell_type": "code",
   "execution_count": null,
   "id": "c501bd7c",
   "metadata": {},
   "outputs": [],
   "source": []
  },
  {
   "cell_type": "code",
   "execution_count": null,
   "id": "dfb2d642",
   "metadata": {},
   "outputs": [],
   "source": []
  }
 ],
 "metadata": {
  "kernelspec": {
   "display_name": "Python 3 (ipykernel)",
   "language": "python",
   "name": "python3"
  },
  "language_info": {
   "codemirror_mode": {
    "name": "ipython",
    "version": 3
   },
   "file_extension": ".py",
   "mimetype": "text/x-python",
   "name": "python",
   "nbconvert_exporter": "python",
   "pygments_lexer": "ipython3",
   "version": "3.10.9"
  }
 },
 "nbformat": 4,
 "nbformat_minor": 5
}
